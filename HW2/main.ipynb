{
  "cells": [
    {
      "cell_type": "markdown",
      "metadata": {},
      "source": [
        "## Install Packages"
      ]
    },
    {
      "cell_type": "code",
      "execution_count": 1,
      "metadata": {
        "id": "d24-HCpnyyZa"
      },
      "outputs": [
        {
          "name": "stdout",
          "output_type": "stream",
          "text": [
            "Device: cuda\n"
          ]
        }
      ],
      "source": [
        "import pandas as pd\n",
        "from collections import Counter\n",
        "from torch.utils.data import Dataset, DataLoader\n",
        "import torch\n",
        "import torch.nn as nn\n",
        "import numpy as np\n",
        "from sklearn.model_selection import train_test_split\n",
        "from sklearn.metrics import accuracy_score, precision_score, recall_score\n",
        "from transformers import BertTokenizer, BertModel\n",
        "from gensim.models import KeyedVectors #Word2Vec\n",
        "from transformers import AutoTokenizer, AutoModel #Huggingface\n",
        "import torch.optim as optim\n",
        "import matplotlib.pyplot as plt\n",
        "from tqdm import tqdm\n",
        "import os\n",
        "device = torch.device(\"cuda\" if torch.cuda.is_available() else \"cpu\") \n",
        "print(\"Device:\", device)\n",
        "import string \n",
        "import re\n",
        "import time"
      ]
    },
    {
      "cell_type": "markdown",
      "metadata": {},
      "source": [
        "## Data Preprocessing"
      ]
    },
    {
      "cell_type": "code",
      "execution_count": 2,
      "metadata": {
        "id": "dhH_q456y4ra"
      },
      "outputs": [],
      "source": [
        "train_data = pd.read_csv('train.csv')"
      ]
    },
    {
      "cell_type": "code",
      "execution_count": 3,
      "metadata": {
        "colab": {
          "base_uri": "https://localhost:8080/",
          "height": 36
        },
        "id": "PqQdRLq-y69w",
        "outputId": "e03d8305-500a-4492-d865-ac4556a19fd5"
      },
      "outputs": [
        {
          "data": {
            "text/plain": [
              "'!\"#$%&\\'()*+,-./:;<=>?@[\\\\]^_`{|}~'"
            ]
          },
          "execution_count": 3,
          "metadata": {},
          "output_type": "execute_result"
        }
      ],
      "source": [
        "string.punctuation"
      ]
    },
    {
      "cell_type": "code",
      "execution_count": 4,
      "metadata": {
        "id": "VHtgrgD4zVeY"
      },
      "outputs": [],
      "source": [
        "def toclean_text(text):\n",
        "\n",
        "    \n",
        "    clean_text = [char for char in text if char not in string.punctuation]\n",
        "   \n",
        "    clean_text = ''.join(clean_text)\n",
        "    \n",
        "        \n",
        "    return clean_text"
      ]
    },
    {
      "cell_type": "code",
      "execution_count": 5,
      "metadata": {
        "id": "QOFuE0fzzVWt"
      },
      "outputs": [],
      "source": [
        "train_data['clean_text'] = train_data['text'].apply(toclean_text)"
      ]
    },
    {
      "cell_type": "code",
      "execution_count": 6,
      "metadata": {
        "id": "LEu9ebQgzerT"
      },
      "outputs": [],
      "source": [
        "abbreviations = {\n",
        "    \"$\" : \" dollar \",\n",
        "    \"€\" : \" euro \",\n",
        "    \"4ao\" : \"for adults only\",\n",
        "    \"a.m\" : \"before midday\",\n",
        "    \"a3\" : \"anytime anywhere anyplace\",\n",
        "    \"aamof\" : \"as a matter of fact\",\n",
        "    \"acct\" : \"account\",\n",
        "    \"adih\" : \"another day in hell\",\n",
        "    \"afaic\" : \"as far as i am concerned\",\n",
        "    \"afaict\" : \"as far as i can tell\",\n",
        "    \"afaik\" : \"as far as i know\",\n",
        "    \"afair\" : \"as far as i remember\",\n",
        "    \"afk\" : \"away from keyboard\",\n",
        "    \"app\" : \"application\",\n",
        "    \"approx\" : \"approximately\",\n",
        "    \"apps\" : \"applications\",\n",
        "    \"asap\" : \"as soon as possible\",\n",
        "    \"asl\" : \"age, sex, location\",\n",
        "    \"atk\" : \"at the keyboard\",\n",
        "    \"ave.\" : \"avenue\",\n",
        "    \"aymm\" : \"are you my mother\",\n",
        "    \"ayor\" : \"at your own risk\", \n",
        "    \"b&b\" : \"bed and breakfast\",\n",
        "    \"b+b\" : \"bed and breakfast\",\n",
        "    \"b.c\" : \"before christ\",\n",
        "    \"b2b\" : \"business to business\",\n",
        "    \"b2c\" : \"business to customer\",\n",
        "    \"b4\" : \"before\",\n",
        "    \"b4n\" : \"bye for now\",\n",
        "    \"b@u\" : \"back at you\",\n",
        "    \"bae\" : \"before anyone else\",\n",
        "    \"bak\" : \"back at keyboard\",\n",
        "    \"bbbg\" : \"bye bye be good\",\n",
        "    \"bbc\" : \"british broadcasting corporation\",\n",
        "    \"bbias\" : \"be back in a second\",\n",
        "    \"bbl\" : \"be back later\",\n",
        "    \"bbs\" : \"be back soon\",\n",
        "    \"be4\" : \"before\",\n",
        "    \"bfn\" : \"bye for now\",\n",
        "    \"blvd\" : \"boulevard\",\n",
        "    \"bout\" : \"about\",\n",
        "    \"brb\" : \"be right back\",\n",
        "    \"bros\" : \"brothers\",\n",
        "    \"brt\" : \"be right there\",\n",
        "    \"bsaaw\" : \"big smile and a wink\",\n",
        "    \"btw\" : \"by the way\",\n",
        "    \"bwl\" : \"bursting with laughter\",\n",
        "    \"c/o\" : \"care of\",\n",
        "    \"cet\" : \"central european time\",\n",
        "    \"cf\" : \"compare\",\n",
        "    \"cia\" : \"central intelligence agency\",\n",
        "    \"csl\" : \"can not stop laughing\",\n",
        "    \"cu\" : \"see you\",\n",
        "    \"cul8r\" : \"see you later\",\n",
        "    \"cv\" : \"curriculum vitae\",\n",
        "    \"cwot\" : \"complete waste of time\",\n",
        "    \"cya\" : \"see you\",\n",
        "    \"cyt\" : \"see you tomorrow\",\n",
        "    \"dae\" : \"does anyone else\",\n",
        "    \"dbmib\" : \"do not bother me i am busy\",\n",
        "    \"diy\" : \"do it yourself\",\n",
        "    \"dm\" : \"direct message\",\n",
        "    \"dwh\" : \"during work hours\",\n",
        "    \"e123\" : \"easy as one two three\",\n",
        "    \"eet\" : \"eastern european time\",\n",
        "    \"eg\" : \"example\",\n",
        "    \"embm\" : \"early morning business meeting\",\n",
        "    \"encl\" : \"enclosed\",\n",
        "    \"encl.\" : \"enclosed\",\n",
        "    \"etc\" : \"and so on\",\n",
        "    \"faq\" : \"frequently asked questions\",\n",
        "    \"fawc\" : \"for anyone who cares\",\n",
        "    \"fb\" : \"facebook\",\n",
        "    \"fc\" : \"fingers crossed\",\n",
        "    \"fig\" : \"figure\",\n",
        "    \"fimh\" : \"forever in my heart\", \n",
        "    \"ft.\" : \"feet\",\n",
        "    \"ft\" : \"featuring\",\n",
        "    \"ftl\" : \"for the loss\",\n",
        "    \"ftw\" : \"for the win\",\n",
        "    \"fwiw\" : \"for what it is worth\",\n",
        "    \"fyi\" : \"for your information\",\n",
        "    \"g9\" : \"genius\",\n",
        "    \"gahoy\" : \"get a hold of yourself\",\n",
        "    \"gal\" : \"get a life\",\n",
        "    \"gcse\" : \"general certificate of secondary education\",\n",
        "    \"gfn\" : \"gone for now\",\n",
        "    \"gg\" : \"good game\",\n",
        "    \"gl\" : \"good luck\",\n",
        "    \"glhf\" : \"good luck have fun\",\n",
        "    \"gmt\" : \"greenwich mean time\",\n",
        "    \"gmta\" : \"great minds think alike\",\n",
        "    \"gn\" : \"good night\",\n",
        "    \"g.o.a.t\" : \"greatest of all time\",\n",
        "    \"goat\" : \"greatest of all time\",\n",
        "    \"goi\" : \"get over it\",\n",
        "    \"gps\" : \"global positioning system\",\n",
        "    \"gr8\" : \"great\",\n",
        "    \"gratz\" : \"congratulations\",\n",
        "    \"gyal\" : \"girl\",\n",
        "    \"h&c\" : \"hot and cold\",\n",
        "    \"hp\" : \"horsepower\",\n",
        "    \"hr\" : \"hour\",\n",
        "    \"hrh\" : \"his royal highness\",\n",
        "    \"ht\" : \"height\",\n",
        "    \"ibrb\" : \"i will be right back\",\n",
        "    \"ic\" : \"i see\",\n",
        "    \"icq\" : \"i seek you\",\n",
        "    \"icymi\" : \"in case you missed it\",\n",
        "    \"idc\" : \"i do not care\",\n",
        "    \"idgadf\" : \"i do not give a damn fuck\",\n",
        "    \"idgaf\" : \"i do not give a fuck\",\n",
        "    \"idk\" : \"i do not know\",\n",
        "    \"ie\" : \"that is\",\n",
        "    \"i.e\" : \"that is\",\n",
        "    \"ifyp\" : \"i feel your pain\",\n",
        "    \"IG\" : \"instagram\",\n",
        "    \"iirc\" : \"if i remember correctly\",\n",
        "    \"ilu\" : \"i love you\",\n",
        "    \"ily\" : \"i love you\",\n",
        "    \"imho\" : \"in my humble opinion\",\n",
        "    \"imo\" : \"in my opinion\",\n",
        "    \"imu\" : \"i miss you\",\n",
        "    \"iow\" : \"in other words\",\n",
        "    \"irl\" : \"in real life\",\n",
        "    \"j4f\" : \"just for fun\",\n",
        "    \"jic\" : \"just in case\",\n",
        "    \"jk\" : \"just kidding\",\n",
        "    \"jsyk\" : \"just so you know\",\n",
        "    \"l8r\" : \"later\",\n",
        "    \"lb\" : \"pound\",\n",
        "    \"lbs\" : \"pounds\",\n",
        "    \"ldr\" : \"long distance relationship\",\n",
        "    \"lmao\" : \"laugh my ass off\",\n",
        "    \"lmfao\" : \"laugh my fucking ass off\",\n",
        "    \"lol\" : \"laughing out loud\",\n",
        "    \"ltd\" : \"limited\",\n",
        "    \"ltns\" : \"long time no see\",\n",
        "    \"m8\" : \"mate\",\n",
        "    \"mf\" : \"motherfucker\",\n",
        "    \"mfs\" : \"motherfuckers\",\n",
        "    \"mfw\" : \"my face when\",\n",
        "    \"mofo\" : \"motherfucker\",\n",
        "    \"mph\" : \"miles per hour\",\n",
        "    \"mr\" : \"mister\",\n",
        "    \"mrw\" : \"my reaction when\",\n",
        "    \"ms\" : \"miss\",\n",
        "    \"mte\" : \"my thoughts exactly\",\n",
        "    \"nagi\" : \"not a good idea\",\n",
        "    \"nbc\" : \"national broadcasting company\",\n",
        "    \"nbd\" : \"not big deal\",\n",
        "    \"nfs\" : \"not for sale\",\n",
        "    \"ngl\" : \"not going to lie\",\n",
        "    \"nhs\" : \"national health service\",\n",
        "    \"nrn\" : \"no reply necessary\",\n",
        "    \"nsfl\" : \"not safe for life\",\n",
        "    \"nsfw\" : \"not safe for work\",\n",
        "    \"nth\" : \"nice to have\",\n",
        "    \"nvr\" : \"never\",\n",
        "    \"nyc\" : \"new york city\",\n",
        "    \"oc\" : \"original content\",\n",
        "    \"og\" : \"original\",\n",
        "    \"ohp\" : \"overhead projector\",\n",
        "    \"oic\" : \"oh i see\",\n",
        "    \"omdb\" : \"over my dead body\",\n",
        "    \"omg\" : \"oh my god\",\n",
        "    \"omw\" : \"on my way\",\n",
        "    \"p.a\" : \"per annum\",\n",
        "    \"p.m\" : \"after midday\",\n",
        "    \"pm\" : \"prime minister\",\n",
        "    \"poc\" : \"people of color\",\n",
        "    \"pov\" : \"point of view\",\n",
        "    \"pp\" : \"pages\",\n",
        "    \"ppl\" : \"people\",\n",
        "    \"prw\" : \"parents are watching\",\n",
        "    \"ps\" : \"postscript\",\n",
        "    \"pt\" : \"point\",\n",
        "    \"ptb\" : \"please text back\",\n",
        "    \"pto\" : \"please turn over\",\n",
        "    \"qpsa\" : \"what happens\",\n",
        "    \"ratchet\" : \"rude\",\n",
        "    \"rbtl\" : \"read between the lines\",\n",
        "    \"rlrt\" : \"real life retweet\", \n",
        "    \"rofl\" : \"rolling on the floor laughing\",\n",
        "    \"roflol\" : \"rolling on the floor laughing out loud\",\n",
        "    \"rotflmao\" : \"rolling on the floor laughing my ass off\",\n",
        "    \"rt\" : \"retweet\",\n",
        "    \"ruok\" : \"are you ok\",\n",
        "    \"sfw\" : \"safe for work\",\n",
        "    \"sk8\" : \"skate\",\n",
        "    \"smh\" : \"shake my head\",\n",
        "    \"sq\" : \"square\",\n",
        "    \"srsly\" : \"seriously\", \n",
        "    \"ssdd\" : \"same stuff different day\",\n",
        "    \"tbh\" : \"to be honest\",\n",
        "    \"tbs\" : \"tablespooful\",\n",
        "    \"tbsp\" : \"tablespooful\",\n",
        "    \"tfw\" : \"that feeling when\",\n",
        "    \"thks\" : \"thank you\",\n",
        "    \"tho\" : \"though\",\n",
        "    \"thx\" : \"thank you\",\n",
        "    \"tia\" : \"thanks in advance\",\n",
        "    \"til\" : \"today i learned\",\n",
        "    \"tl;dr\" : \"too long i did not read\",\n",
        "    \"tldr\" : \"too long i did not read\",\n",
        "    \"tmb\" : \"tweet me back\",\n",
        "    \"tntl\" : \"trying not to laugh\",\n",
        "    \"ttyl\" : \"talk to you later\",\n",
        "    \"u\" : \"you\",\n",
        "    \"u2\" : \"you too\",\n",
        "    \"u4e\" : \"yours for ever\",\n",
        "    \"utc\" : \"coordinated universal time\",\n",
        "    \"w/\" : \"with\",\n",
        "    \"w/o\" : \"without\",\n",
        "    \"w8\" : \"wait\",\n",
        "    \"wassup\" : \"what is up\",\n",
        "    \"wb\" : \"welcome back\",\n",
        "    \"wtf\" : \"what the fuck\",\n",
        "    \"wtg\" : \"way to go\",\n",
        "    \"wtpa\" : \"where the party at\",\n",
        "    \"wuf\" : \"where are you from\",\n",
        "    \"wuzup\" : \"what is up\",\n",
        "    \"wywh\" : \"wish you were here\",\n",
        "    \"yd\" : \"yard\",\n",
        "    \"ygtr\" : \"you got that right\",\n",
        "    \"ynk\" : \"you never know\",\n",
        "    \"zzz\" : \"sleeping bored and tired\"\n",
        "}"
      ]
    },
    {
      "cell_type": "code",
      "execution_count": 7,
      "metadata": {
        "id": "X90HSRkNzfh1"
      },
      "outputs": [],
      "source": [
        "# Remove all URLs, replace by URL\n",
        "def remove_URL(text):\n",
        "    url = re.compile(r'https?://\\S+|www\\.\\S+')\n",
        "    return url.sub(r'URL',text)\n",
        "\n",
        "# Remove HTML beacon\n",
        "def remove_HTML(text):\n",
        "    html=re.compile(r'<.*?>')\n",
        "    return html.sub(r'',text)\n",
        "\n",
        "# Remove non printable characters\n",
        "def remove_not_ASCII(text):\n",
        "    text = ''.join([word for word in text if word in string.printable])\n",
        "    return text\n",
        "\n",
        "# Change an abbreviation by its true meaning\n",
        "def word_abbrev(word):\n",
        "    return abbreviations[word.lower()] if word.lower() in abbreviations.keys() else word\n",
        "\n",
        "# Replace all abbreviations\n",
        "def replace_abbrev(text):\n",
        "    string = \"\"\n",
        "    for word in text.split():\n",
        "        string += word_abbrev(word) + \" \"        \n",
        "    return string\n",
        "\n",
        "# Remove @ and mention, replace by USER\n",
        "def remove_mention(text):\n",
        "    at=re.compile(r'@\\S+')\n",
        "    return at.sub(r'USER',text)\n",
        "\n",
        "# Remove numbers, replace it by NUMBER\n",
        "def remove_number(text):\n",
        "    num = re.compile(r'[-+]?[.\\d]*[\\d]+[:,.\\d]*')\n",
        "    return num.sub(r'NUMBER', text)\n",
        "\n",
        "# Remove all emojis, replace by EMOJI\n",
        "def remove_emoji(text):\n",
        "    emoji_pattern = re.compile(\"[\"\n",
        "                           u\"\\U0001F600-\\U0001F64F\"  # emoticons\n",
        "                           u\"\\U0001F300-\\U0001F5FF\"  # symbols & pictographs\n",
        "                           u\"\\U0001F680-\\U0001F6FF\"  # transport & map symbols\n",
        "                           u\"\\U0001F1E0-\\U0001F1FF\"  # flags (iOS)\n",
        "                           u\"\\U00002702-\\U000027B0\"\n",
        "                           u\"\\U000024C2-\\U0001F251\"\n",
        "                           \"]+\", flags=re.UNICODE)\n",
        "    return emoji_pattern.sub(r'EMOJI', text)\n",
        "\n",
        "# Replace some others smileys with SADFACE\n",
        "def transcription_sad(text):\n",
        "    eyes = r\"[8:=;]\"\n",
        "    nose = r\"['`\\-]\"\n",
        "    smiley = re.compile(r'[8:=;][\\'\\-]?[(\\\\/]')\n",
        "    return smiley.sub(r'SADFACE', text)\n",
        "\n",
        "# Replace some smileys with SMILE\n",
        "def transcription_smile(text):\n",
        "    eyes = r\"[8:=;]\"\n",
        "    nose = r\"['`\\-]\"\n",
        "    smiley = re.compile(r'[8:=;][\\'\\-]?[)dDp]')\n",
        "    #smiley = re.compile(r'#{eyes}#{nose}[)d]+|[)d]+#{nose}#{eyes}/i')\n",
        "    return smiley.sub(r'SMILE', text)\n",
        "\n",
        "# Replace <3 with HEART\n",
        "def transcription_heart(text):\n",
        "    heart = re.compile(r'<3')\n",
        "    return heart.sub(r'HEART', text)"
      ]
    },
    {
      "cell_type": "code",
      "execution_count": 8,
      "metadata": {
        "id": "jckpOwMdzj3I"
      },
      "outputs": [],
      "source": [
        "def clean_tweet(text):\n",
        "    \n",
        "    # Remove non text\n",
        "    text = remove_URL(text)\n",
        "    text = remove_HTML(text)\n",
        "    text = remove_not_ASCII(text)\n",
        "    \n",
        "    # replace abbreviations, @ and number\n",
        "    text = replace_abbrev(text)  \n",
        "    text = remove_mention(text)\n",
        "    text = remove_number(text)\n",
        "    \n",
        "    # Remove emojis / smileys\n",
        "    text = remove_emoji(text)\n",
        "    text = transcription_sad(text)\n",
        "    text = transcription_smile(text)\n",
        "    text = transcription_heart(text)\n",
        "  \n",
        "    return text\n",
        "\n",
        "train_data[\"clean_text\"] = train_data[\"clean_text\"].apply(clean_tweet)"
      ]
    },
    {
      "cell_type": "code",
      "execution_count": 9,
      "metadata": {},
      "outputs": [],
      "source": [
        "# import nltk\n",
        "# nltk.download('stopwords')\n",
        "\n",
        "# def toremove_stopword(text):\n",
        "#     remove_stopword = [word for word in text.split() if word.lower() not in stopwords.words('english')]\n",
        "\n",
        "#     return remove_stopword\n",
        "\n",
        "# train_data['clean_text'] = train_data['clean_text'].apply(toremove_stopword)"
      ]
    },
    {
      "cell_type": "code",
      "execution_count": 10,
      "metadata": {
        "id": "qhp4LE7rz0SZ"
      },
      "outputs": [],
      "source": [
        "X= train_data['clean_text']\n",
        "y = train_data['target']\n",
        "X_train, X_test, y_train, y_test = train_test_split(X,y, test_size = 0.2, random_state =42)\n",
        "X_train = X_train.tolist()\n",
        "y_train = y_train.tolist()\n",
        "X_test  = X_test.tolist()\n",
        "y_test  = y_test.tolist()"
      ]
    },
    {
      "cell_type": "markdown",
      "metadata": {},
      "source": [
        "## Define Dataloader"
      ]
    },
    {
      "cell_type": "code",
      "execution_count": 11,
      "metadata": {},
      "outputs": [],
      "source": [
        "class TweetBertDataset(Dataset):\n",
        "    def __init__(self, texts, labels, tokenizer, max_len=512):\n",
        "        \"\"\"\n",
        "        texts: List[str], each entry is a sentence\n",
        "        labels: List[int] or numpy array, each entry is 0/1\n",
        "        tokenizer: BertTokenizer\n",
        "        max_len: the length to pad/truncate to\n",
        "        \"\"\"\n",
        "        self.texts = texts\n",
        "        self.labels = labels\n",
        "        self.tokenizer = tokenizer\n",
        "        self.max_len = max_len\n",
        "\n",
        "    def __len__(self):\n",
        "        return len(self.texts)\n",
        "\n",
        "    def __getitem__(self, idx):\n",
        "        text = self.texts[idx]\n",
        "        label = self.labels[idx]\n",
        "\n",
        "        encoding = self.tokenizer(\n",
        "            text,\n",
        "            padding='max_length',\n",
        "            truncation=True,\n",
        "            max_length=self.max_len,\n",
        "            return_tensors='pt'  # return PyTorch tensor\n",
        "        )\n",
        "        # encoding contains: input_ids, token_type_ids, attention_mask\n",
        "        # shape is (1, max_len), so use squeeze(0) to make it (max_len,)\n",
        "        input_ids = encoding[\"input_ids\"].squeeze(0)\n",
        "        attention_mask = encoding[\"attention_mask\"].squeeze(0)\n",
        "        token_type_ids = encoding[\"token_type_ids\"].squeeze(0)  # use if needed\n",
        "\n",
        "        return input_ids, attention_mask,token_type_ids, label\n"
      ]
    },
    {
      "cell_type": "code",
      "execution_count": 12,
      "metadata": {},
      "outputs": [],
      "source": [
        "tokenizer = BertTokenizer.from_pretrained(\"bert-base-uncased\")\n",
        "train_dataset = TweetBertDataset(X_train, y_train, tokenizer)\n",
        "test_dataset  = TweetBertDataset(X_test, y_test, tokenizer)\n",
        "\n",
        "# Create DataLoader for batching\n",
        "train_loader = DataLoader(train_dataset, batch_size=32, shuffle=True)\n",
        "\n",
        "test_loader = DataLoader(test_dataset,batch_size=32, shuffle=False)"
      ]
    },
    {
      "cell_type": "markdown",
      "metadata": {},
      "source": [
        "## Define LSTM"
      ]
    },
    {
      "cell_type": "code",
      "execution_count": 13,
      "metadata": {},
      "outputs": [],
      "source": [
        "import torch.nn as nn\n",
        "import torch.nn.functional as F\n",
        "\n",
        "class BertLSTM(nn.Module):\n",
        "    def __init__(self, lstm_hidden=256, dropout=0.4, freeze_bert=False):\n",
        "        \"\"\"\n",
        "        lstm_hidden: Hidden vector dimension of LSTM output\n",
        "        dropout: Dropout parameter for LSTM\n",
        "        freeze_bert: Whether to freeze BERT parameters (True=do not train BERT)\n",
        "        \"\"\"\n",
        "        super(BertLSTM, self).__init__()\n",
        "        self.bert = BertModel.from_pretrained(\"bert-base-uncased\")\n",
        "\n",
        "        # (optional) If you want to train only the LSTM and not fine-tune BERT, you can freeze BERT:\n",
        "        if freeze_bert:\n",
        "            for param in self.bert.parameters():\n",
        "                param.requires_grad = False\n",
        "\n",
        "        self.lstm = nn.LSTM(\n",
        "            input_size=768,         # BERT-base hidden size\n",
        "            hidden_size=lstm_hidden,\n",
        "            batch_first=True,\n",
        "            dropout=dropout,\n",
        "            num_layers=1\n",
        "        )\n",
        "        self.dropout = nn.Dropout(0.2)\n",
        "        self.fc = nn.Linear(lstm_hidden, 1)\n",
        "        self.sigmoid = nn.Sigmoid()\n",
        "\n",
        "    def forward(self, input_ids, attention_mask, token_type_ids):\n",
        "        # BERT output: \n",
        "        # last_hidden_state.shape = (batch_size, seq_len, 768)\n",
        "        outputs = self.bert(input_ids=input_ids, attention_mask=attention_mask, token_type_ids=token_type_ids)\n",
        "        last_hidden_state = outputs.last_hidden_state\n",
        "\n",
        "        # Pass through LSTM\n",
        "        lstm_out, (h_n, c_n) = self.lstm(last_hidden_state)\n",
        "        # h_n.shape = (num_layers, batch_size, lstm_hidden)\n",
        "        # Take the last layer h_n[-1]: shape=(batch_size, lstm_hidden)\n",
        "        x = self.dropout(h_n[-1])\n",
        "        x = self.fc(x)\n",
        "        x = self.sigmoid(x)\n",
        "        return x.squeeze(1)  # Convert to (batch_size,)"
      ]
    },
    {
      "cell_type": "markdown",
      "metadata": {},
      "source": [
        "## Define GRU"
      ]
    },
    {
      "cell_type": "code",
      "execution_count": 14,
      "metadata": {},
      "outputs": [],
      "source": [
        "class BertGRU(nn.Module):\n",
        "    def __init__(self, gru_hidden=256, dropout=0.4, freeze_bert=False):\n",
        "        super(BertGRU, self).__init__()\n",
        "        self.bert = BertModel.from_pretrained(\"bert-base-uncased\")\n",
        "\n",
        "        # (Optional) Whether to freeze BERT parameters\n",
        "        if freeze_bert:\n",
        "            for param in self.bert.parameters():\n",
        "                param.requires_grad = False\n",
        "\n",
        "        # Use GRU\n",
        "        self.gru = nn.GRU(\n",
        "            input_size=768,  # BERT-base hidden size\n",
        "            hidden_size=gru_hidden,\n",
        "            batch_first=True,\n",
        "            dropout=dropout,\n",
        "            num_layers=1\n",
        "        )\n",
        "        self.dropout = nn.Dropout(0.2)\n",
        "        self.fc = nn.Linear(gru_hidden, 1)\n",
        "        self.sigmoid = nn.Sigmoid()\n",
        "\n",
        "    def forward(self, input_ids, attention_mask, token_type_ids):\n",
        "        outputs = self.bert(input_ids=input_ids, attention_mask=attention_mask, token_type_ids=token_type_ids)\n",
        "        last_hidden_state = outputs.last_hidden_state  # (batch_size, seq_len, 768)\n",
        "\n",
        "        # Pass through GRU\n",
        "        gru_out, h_n = self.gru(last_hidden_state)\n",
        "        # h_n.shape = (num_layers, batch_size, hidden_size)\n",
        "\n",
        "        # Take the last layer hidden state h_n[-1]: shape = (batch_size, hidden_size)\n",
        "        x = self.dropout(h_n[-1])\n",
        "        x = self.fc(x)\n",
        "        x = self.sigmoid(x)\n",
        "        return x.squeeze(1)  # Return dimension (batch_size,)"
      ]
    },
    {
      "cell_type": "code",
      "execution_count": 15,
      "metadata": {},
      "outputs": [
        {
          "name": "stderr",
          "output_type": "stream",
          "text": [
            "c:\\Users\\Kevin\\AppData\\Local\\Programs\\Python\\Python312\\Lib\\site-packages\\torch\\nn\\modules\\rnn.py:123: UserWarning: dropout option adds dropout after all but last recurrent layer, so non-zero dropout expects num_layers greater than 1, but got dropout=0.4 and num_layers=1\n",
            "  warnings.warn(\n"
          ]
        },
        {
          "name": "stdout",
          "output_type": "stream",
          "text": [
            "Model LSTM created\n",
            "BertLSTM(\n",
            "  (bert): BertModel(\n",
            "    (embeddings): BertEmbeddings(\n",
            "      (word_embeddings): Embedding(30522, 768, padding_idx=0)\n",
            "      (position_embeddings): Embedding(512, 768)\n",
            "      (token_type_embeddings): Embedding(2, 768)\n",
            "      (LayerNorm): LayerNorm((768,), eps=1e-12, elementwise_affine=True)\n",
            "      (dropout): Dropout(p=0.1, inplace=False)\n",
            "    )\n",
            "    (encoder): BertEncoder(\n",
            "      (layer): ModuleList(\n",
            "        (0-11): 12 x BertLayer(\n",
            "          (attention): BertAttention(\n",
            "            (self): BertSdpaSelfAttention(\n",
            "              (query): Linear(in_features=768, out_features=768, bias=True)\n",
            "              (key): Linear(in_features=768, out_features=768, bias=True)\n",
            "              (value): Linear(in_features=768, out_features=768, bias=True)\n",
            "              (dropout): Dropout(p=0.1, inplace=False)\n",
            "            )\n",
            "            (output): BertSelfOutput(\n",
            "              (dense): Linear(in_features=768, out_features=768, bias=True)\n",
            "              (LayerNorm): LayerNorm((768,), eps=1e-12, elementwise_affine=True)\n",
            "              (dropout): Dropout(p=0.1, inplace=False)\n",
            "            )\n",
            "          )\n",
            "          (intermediate): BertIntermediate(\n",
            "            (dense): Linear(in_features=768, out_features=3072, bias=True)\n",
            "            (intermediate_act_fn): GELUActivation()\n",
            "          )\n",
            "          (output): BertOutput(\n",
            "            (dense): Linear(in_features=3072, out_features=768, bias=True)\n",
            "            (LayerNorm): LayerNorm((768,), eps=1e-12, elementwise_affine=True)\n",
            "            (dropout): Dropout(p=0.1, inplace=False)\n",
            "          )\n",
            "        )\n",
            "      )\n",
            "    )\n",
            "    (pooler): BertPooler(\n",
            "      (dense): Linear(in_features=768, out_features=768, bias=True)\n",
            "      (activation): Tanh()\n",
            "    )\n",
            "  )\n",
            "  (lstm): LSTM(768, 256, batch_first=True, dropout=0.4)\n",
            "  (dropout): Dropout(p=0.2, inplace=False)\n",
            "  (fc): Linear(in_features=256, out_features=1, bias=True)\n",
            "  (sigmoid): Sigmoid()\n",
            ")\n",
            "Model GRU created\n",
            "BertGRU(\n",
            "  (bert): BertModel(\n",
            "    (embeddings): BertEmbeddings(\n",
            "      (word_embeddings): Embedding(30522, 768, padding_idx=0)\n",
            "      (position_embeddings): Embedding(512, 768)\n",
            "      (token_type_embeddings): Embedding(2, 768)\n",
            "      (LayerNorm): LayerNorm((768,), eps=1e-12, elementwise_affine=True)\n",
            "      (dropout): Dropout(p=0.1, inplace=False)\n",
            "    )\n",
            "    (encoder): BertEncoder(\n",
            "      (layer): ModuleList(\n",
            "        (0-11): 12 x BertLayer(\n",
            "          (attention): BertAttention(\n",
            "            (self): BertSdpaSelfAttention(\n",
            "              (query): Linear(in_features=768, out_features=768, bias=True)\n",
            "              (key): Linear(in_features=768, out_features=768, bias=True)\n",
            "              (value): Linear(in_features=768, out_features=768, bias=True)\n",
            "              (dropout): Dropout(p=0.1, inplace=False)\n",
            "            )\n",
            "            (output): BertSelfOutput(\n",
            "              (dense): Linear(in_features=768, out_features=768, bias=True)\n",
            "              (LayerNorm): LayerNorm((768,), eps=1e-12, elementwise_affine=True)\n",
            "              (dropout): Dropout(p=0.1, inplace=False)\n",
            "            )\n",
            "          )\n",
            "          (intermediate): BertIntermediate(\n",
            "            (dense): Linear(in_features=768, out_features=3072, bias=True)\n",
            "            (intermediate_act_fn): GELUActivation()\n",
            "          )\n",
            "          (output): BertOutput(\n",
            "            (dense): Linear(in_features=3072, out_features=768, bias=True)\n",
            "            (LayerNorm): LayerNorm((768,), eps=1e-12, elementwise_affine=True)\n",
            "            (dropout): Dropout(p=0.1, inplace=False)\n",
            "          )\n",
            "        )\n",
            "      )\n",
            "    )\n",
            "    (pooler): BertPooler(\n",
            "      (dense): Linear(in_features=768, out_features=768, bias=True)\n",
            "      (activation): Tanh()\n",
            "    )\n",
            "  )\n",
            "  (gru): GRU(768, 256, batch_first=True, dropout=0.4)\n",
            "  (dropout): Dropout(p=0.2, inplace=False)\n",
            "  (fc): Linear(in_features=256, out_features=1, bias=True)\n",
            "  (sigmoid): Sigmoid()\n",
            ")\n"
          ]
        }
      ],
      "source": [
        "model_lstm = BertLSTM(lstm_hidden=256, dropout=0.4, freeze_bert=True).to(device)\n",
        "model_gru = BertGRU(gru_hidden=256, dropout=0.4, freeze_bert=True).to(device)\n",
        "print(\"Model LSTM created\")\n",
        "print(model_lstm)\n",
        "print(\"Model GRU created\")\n",
        "print(model_gru)\n",
        "criterion = nn.BCELoss()\n",
        "optimizer_lstm = optim.Adam(model_lstm.parameters(), lr=0.0001)\n",
        "optimizer_gru = optim.Adam(model_gru.parameters(), lr=0.0001)\n",
        "scheduler=optim.lr_scheduler.ReduceLROnPlateau(optimizer_lstm, mode='min', factor=0.1, patience=5, verbose=True)"
      ]
    },
    {
      "cell_type": "markdown",
      "metadata": {},
      "source": [
        "## Define Training Function"
      ]
    },
    {
      "cell_type": "code",
      "execution_count": 16,
      "metadata": {
        "colab": {
          "base_uri": "https://localhost:8080/"
        },
        "id": "FstgjEcd0ATG",
        "outputId": "5eaf86a7-5bb2-455c-a4a7-34c89cacea58"
      },
      "outputs": [],
      "source": [
        "train_losses_lstm = []\n",
        "train_accuracies_lstm = []\n",
        "train_times_lstm = []         # Time taken for each epoch\n",
        "train_memory_usage_lstm = []  # GPU memory usage for each epoch\n",
        "train_test_accuracies_lstm = [] # Test accuracies for each epoch\n",
        "\n",
        "train_losses_gru = []\n",
        "train_accuracies_gru = []\n",
        "train_times_gru = []\n",
        "train_memory_usage_gru = []\n",
        "train_test_accuracies_gru = []\n",
        "\n",
        "\n",
        "# Create a directory to save the model\n",
        "os.makedirs(\"model\", exist_ok=True)\n",
        "\n",
        "def train_model(model, optimizer, dataloader, epochs, model_name=\"LSTM\", test_loader=None):\n",
        "    model.train()\n",
        "\n",
        "    epoch_losses = []\n",
        "    epoch_accuracies = []\n",
        "    epoch_times = []\n",
        "    epoch_memory_usages = []\n",
        "    epoch_test_accuracies = []\n",
        "\n",
        "    for epoch in range(epochs):\n",
        "        start_time = time.time()\n",
        "\n",
        "        running_loss = 0.0\n",
        "        total = 0\n",
        "        correct = 0\n",
        "\n",
        "        # Reset GPU memory peak before each epoch (for measuring the maximum value later)\n",
        "        if torch.cuda.is_available():\n",
        "            torch.cuda.reset_peak_memory_stats(device)\n",
        "\n",
        "        pbar = tqdm(dataloader, desc=f\"[{model_name}] Epoch {epoch+1}/{epochs}\", leave=False)\n",
        "        for input_ids, attention_mask,token_type_ids,labels in pbar:\n",
        "            input_ids = input_ids.to(device)\n",
        "            attention_mask = attention_mask.to(device)\n",
        "            token_type_ids = token_type_ids.to(device)  # If using token_type_ids, uncomment this line\n",
        "            labels = labels.float().to(device)\n",
        "\n",
        "            optimizer.zero_grad()\n",
        "            outputs = model(input_ids, attention_mask, token_type_ids)  # If using token_type_ids, uncomment this line\n",
        "            loss = criterion(outputs, labels)\n",
        "            loss.backward()\n",
        "            optimizer.step()\n",
        "\n",
        "            running_loss += loss.item() * input_ids.size(0)\n",
        "\n",
        "            preds = (outputs >= 0.5).long()\n",
        "            correct += (preds == labels.long()).sum().item()\n",
        "            total += labels.size(0)\n",
        "\n",
        "            pbar.set_postfix(loss=loss.item())\n",
        "\n",
        "        epoch_loss = running_loss / total\n",
        "        epoch_acc = correct / total\n",
        "\n",
        "        end_time = time.time()\n",
        "        epoch_time = end_time - start_time\n",
        "        scheduler.step(epoch_loss)\n",
        "        # Get the GPU memory usage (maximum value) during this epoch\n",
        "        if torch.cuda.is_available():\n",
        "            memory_usage = torch.cuda.max_memory_allocated(device)\n",
        "        else:\n",
        "            memory_usage = 0\n",
        "\n",
        "        test_acc = 0\n",
        "        if test_loader is not None:\n",
        "            model.eval()\n",
        "            all_preds = []\n",
        "            all_labels = []\n",
        "            with torch.no_grad():\n",
        "                for input_ids, attention_mask,token_type_ids, labels in test_loader:\n",
        "                    input_ids = input_ids.to(device)\n",
        "                    attention_mask = attention_mask.to(device)\n",
        "                    token_type_ids = token_type_ids.to(device)  \n",
        "                    outputs = model(input_ids, attention_mask, token_type_ids)\n",
        "                    preds = (outputs >= 0.5).long()\n",
        "                    all_preds.extend(preds.cpu().tolist())\n",
        "                    all_labels.extend(labels.tolist())\n",
        "            test_acc = accuracy_score(all_labels, all_preds)\n",
        "            epoch_test_accuracies.append(test_acc)\n",
        "            model.train()\n",
        "\n",
        "        print(f\"{model_name} Epoch [{epoch+1}/{epochs}] | Loss: {epoch_loss:.4f} | Acc: {epoch_acc:.4f} | Test_Acc: {test_acc:.4f} | Time: {epoch_time:.2f}s | GPU Mem: {memory_usage/1024**2:.2f}MB\")\n",
        "        epoch_losses.append(epoch_loss)\n",
        "        epoch_accuracies.append(epoch_acc)\n",
        "        epoch_times.append(epoch_time)\n",
        "        epoch_memory_usages.append(memory_usage)\n",
        "\n",
        "    torch.save(model.state_dict(), f\"model/final_{model_name}.pt\")\n",
        "    \n",
        "    return epoch_losses, epoch_accuracies, epoch_times, epoch_memory_usages, epoch_test_accuracies\n"
      ]
    },
    {
      "cell_type": "markdown",
      "metadata": {},
      "source": [
        "## Start Training"
      ]
    },
    {
      "cell_type": "markdown",
      "metadata": {},
      "source": [
        "#### LSTM"
      ]
    },
    {
      "cell_type": "code",
      "execution_count": 17,
      "metadata": {},
      "outputs": [
        {
          "name": "stdout",
          "output_type": "stream",
          "text": [
            "----- Training LSTM Model -----\n"
          ]
        },
        {
          "name": "stderr",
          "output_type": "stream",
          "text": [
            "                                                                                \r"
          ]
        },
        {
          "name": "stdout",
          "output_type": "stream",
          "text": [
            "LSTM Epoch [1/30] | Loss: 0.5661 | Acc: 0.7108 | Test_Acc: 0.7886 | Time: 27.43s | GPU Mem: 1435.24MB\n"
          ]
        },
        {
          "name": "stderr",
          "output_type": "stream",
          "text": [
            "                                                                                \r"
          ]
        },
        {
          "name": "stdout",
          "output_type": "stream",
          "text": [
            "LSTM Epoch [2/30] | Loss: 0.4780 | Acc: 0.7874 | Test_Acc: 0.8043 | Time: 27.04s | GPU Mem: 1435.24MB\n"
          ]
        },
        {
          "name": "stderr",
          "output_type": "stream",
          "text": [
            "                                                                                \r"
          ]
        },
        {
          "name": "stdout",
          "output_type": "stream",
          "text": [
            "LSTM Epoch [3/30] | Loss: 0.4545 | Acc: 0.7969 | Test_Acc: 0.8063 | Time: 26.97s | GPU Mem: 1435.24MB\n"
          ]
        },
        {
          "name": "stderr",
          "output_type": "stream",
          "text": [
            "                                                                                \r"
          ]
        },
        {
          "name": "stdout",
          "output_type": "stream",
          "text": [
            "LSTM Epoch [4/30] | Loss: 0.4464 | Acc: 0.8034 | Test_Acc: 0.8030 | Time: 27.10s | GPU Mem: 1435.24MB\n"
          ]
        },
        {
          "name": "stderr",
          "output_type": "stream",
          "text": [
            "                                                                                \r"
          ]
        },
        {
          "name": "stdout",
          "output_type": "stream",
          "text": [
            "LSTM Epoch [5/30] | Loss: 0.4376 | Acc: 0.8049 | Test_Acc: 0.8135 | Time: 27.08s | GPU Mem: 1435.24MB\n"
          ]
        },
        {
          "name": "stderr",
          "output_type": "stream",
          "text": [
            "                                                                                \r"
          ]
        },
        {
          "name": "stdout",
          "output_type": "stream",
          "text": [
            "LSTM Epoch [6/30] | Loss: 0.4270 | Acc: 0.8138 | Test_Acc: 0.8188 | Time: 27.21s | GPU Mem: 1435.24MB\n"
          ]
        },
        {
          "name": "stderr",
          "output_type": "stream",
          "text": [
            "                                                                                \r"
          ]
        },
        {
          "name": "stdout",
          "output_type": "stream",
          "text": [
            "LSTM Epoch [7/30] | Loss: 0.4270 | Acc: 0.8122 | Test_Acc: 0.8188 | Time: 27.31s | GPU Mem: 1435.24MB\n"
          ]
        },
        {
          "name": "stderr",
          "output_type": "stream",
          "text": [
            "                                                                                \r"
          ]
        },
        {
          "name": "stdout",
          "output_type": "stream",
          "text": [
            "LSTM Epoch [8/30] | Loss: 0.4185 | Acc: 0.8167 | Test_Acc: 0.8135 | Time: 27.20s | GPU Mem: 1435.24MB\n"
          ]
        },
        {
          "name": "stderr",
          "output_type": "stream",
          "text": [
            "                                                                                \r"
          ]
        },
        {
          "name": "stdout",
          "output_type": "stream",
          "text": [
            "LSTM Epoch [9/30] | Loss: 0.4143 | Acc: 0.8181 | Test_Acc: 0.8214 | Time: 27.29s | GPU Mem: 1435.24MB\n"
          ]
        },
        {
          "name": "stderr",
          "output_type": "stream",
          "text": [
            "                                                                                 \r"
          ]
        },
        {
          "name": "stdout",
          "output_type": "stream",
          "text": [
            "LSTM Epoch [10/30] | Loss: 0.4090 | Acc: 0.8238 | Test_Acc: 0.8227 | Time: 27.28s | GPU Mem: 1435.24MB\n"
          ]
        },
        {
          "name": "stderr",
          "output_type": "stream",
          "text": [
            "                                                                                 \r"
          ]
        },
        {
          "name": "stdout",
          "output_type": "stream",
          "text": [
            "LSTM Epoch [11/30] | Loss: 0.4066 | Acc: 0.8195 | Test_Acc: 0.8234 | Time: 27.07s | GPU Mem: 1435.24MB\n"
          ]
        },
        {
          "name": "stderr",
          "output_type": "stream",
          "text": [
            "                                                                                 \r"
          ]
        },
        {
          "name": "stdout",
          "output_type": "stream",
          "text": [
            "LSTM Epoch [12/30] | Loss: 0.3988 | Acc: 0.8253 | Test_Acc: 0.8116 | Time: 27.11s | GPU Mem: 1435.24MB\n"
          ]
        },
        {
          "name": "stderr",
          "output_type": "stream",
          "text": [
            "                                                                                 \r"
          ]
        },
        {
          "name": "stdout",
          "output_type": "stream",
          "text": [
            "LSTM Epoch [13/30] | Loss: 0.4006 | Acc: 0.8205 | Test_Acc: 0.8207 | Time: 26.96s | GPU Mem: 1435.24MB\n"
          ]
        },
        {
          "name": "stderr",
          "output_type": "stream",
          "text": [
            "                                                                                 \r"
          ]
        },
        {
          "name": "stdout",
          "output_type": "stream",
          "text": [
            "LSTM Epoch [14/30] | Loss: 0.3911 | Acc: 0.8278 | Test_Acc: 0.7984 | Time: 26.95s | GPU Mem: 1435.24MB\n"
          ]
        },
        {
          "name": "stderr",
          "output_type": "stream",
          "text": [
            "                                                                                 \r"
          ]
        },
        {
          "name": "stdout",
          "output_type": "stream",
          "text": [
            "LSTM Epoch [15/30] | Loss: 0.3790 | Acc: 0.8307 | Test_Acc: 0.8063 | Time: 27.06s | GPU Mem: 1435.24MB\n"
          ]
        },
        {
          "name": "stderr",
          "output_type": "stream",
          "text": [
            "                                                                                 \r"
          ]
        },
        {
          "name": "stdout",
          "output_type": "stream",
          "text": [
            "LSTM Epoch [16/30] | Loss: 0.3730 | Acc: 0.8330 | Test_Acc: 0.8214 | Time: 26.94s | GPU Mem: 1435.24MB\n"
          ]
        },
        {
          "name": "stderr",
          "output_type": "stream",
          "text": [
            "                                                                                 \r"
          ]
        },
        {
          "name": "stdout",
          "output_type": "stream",
          "text": [
            "LSTM Epoch [17/30] | Loss: 0.3730 | Acc: 0.8406 | Test_Acc: 0.8096 | Time: 26.89s | GPU Mem: 1435.24MB\n"
          ]
        },
        {
          "name": "stderr",
          "output_type": "stream",
          "text": [
            "                                                                                 \r"
          ]
        },
        {
          "name": "stdout",
          "output_type": "stream",
          "text": [
            "LSTM Epoch [18/30] | Loss: 0.3806 | Acc: 0.8317 | Test_Acc: 0.7997 | Time: 27.22s | GPU Mem: 1435.24MB\n"
          ]
        },
        {
          "name": "stderr",
          "output_type": "stream",
          "text": [
            "                                                                                 \r"
          ]
        },
        {
          "name": "stdout",
          "output_type": "stream",
          "text": [
            "LSTM Epoch [19/30] | Loss: 0.3595 | Acc: 0.8443 | Test_Acc: 0.8194 | Time: 27.22s | GPU Mem: 1435.24MB\n"
          ]
        },
        {
          "name": "stderr",
          "output_type": "stream",
          "text": [
            "                                                                                 \r"
          ]
        },
        {
          "name": "stdout",
          "output_type": "stream",
          "text": [
            "LSTM Epoch [20/30] | Loss: 0.3656 | Acc: 0.8419 | Test_Acc: 0.8102 | Time: 27.32s | GPU Mem: 1435.24MB\n"
          ]
        },
        {
          "name": "stderr",
          "output_type": "stream",
          "text": [
            "                                                                                 \r"
          ]
        },
        {
          "name": "stdout",
          "output_type": "stream",
          "text": [
            "LSTM Epoch [21/30] | Loss: 0.3514 | Acc: 0.8455 | Test_Acc: 0.8188 | Time: 27.23s | GPU Mem: 1435.24MB\n"
          ]
        },
        {
          "name": "stderr",
          "output_type": "stream",
          "text": [
            "                                                                                 \r"
          ]
        },
        {
          "name": "stdout",
          "output_type": "stream",
          "text": [
            "LSTM Epoch [22/30] | Loss: 0.3392 | Acc: 0.8560 | Test_Acc: 0.8011 | Time: 27.25s | GPU Mem: 1435.24MB\n"
          ]
        },
        {
          "name": "stderr",
          "output_type": "stream",
          "text": [
            "                                                                                 \r"
          ]
        },
        {
          "name": "stdout",
          "output_type": "stream",
          "text": [
            "LSTM Epoch [23/30] | Loss: 0.3359 | Acc: 0.8532 | Test_Acc: 0.8050 | Time: 27.15s | GPU Mem: 1435.24MB\n"
          ]
        },
        {
          "name": "stderr",
          "output_type": "stream",
          "text": [
            "                                                                                 \r"
          ]
        },
        {
          "name": "stdout",
          "output_type": "stream",
          "text": [
            "LSTM Epoch [24/30] | Loss: 0.3323 | Acc: 0.8565 | Test_Acc: 0.8135 | Time: 27.03s | GPU Mem: 1435.24MB\n"
          ]
        },
        {
          "name": "stderr",
          "output_type": "stream",
          "text": [
            "                                                                                 \r"
          ]
        },
        {
          "name": "stdout",
          "output_type": "stream",
          "text": [
            "LSTM Epoch [25/30] | Loss: 0.3211 | Acc: 0.8616 | Test_Acc: 0.7978 | Time: 27.20s | GPU Mem: 1435.24MB\n"
          ]
        },
        {
          "name": "stderr",
          "output_type": "stream",
          "text": [
            "                                                                                 \r"
          ]
        },
        {
          "name": "stdout",
          "output_type": "stream",
          "text": [
            "LSTM Epoch [26/30] | Loss: 0.3222 | Acc: 0.8608 | Test_Acc: 0.7617 | Time: 27.20s | GPU Mem: 1435.24MB\n"
          ]
        },
        {
          "name": "stderr",
          "output_type": "stream",
          "text": [
            "                                                                                 \r"
          ]
        },
        {
          "name": "stdout",
          "output_type": "stream",
          "text": [
            "LSTM Epoch [27/30] | Loss: 0.3440 | Acc: 0.8519 | Test_Acc: 0.8043 | Time: 27.15s | GPU Mem: 1435.24MB\n"
          ]
        },
        {
          "name": "stderr",
          "output_type": "stream",
          "text": [
            "                                                                                 \r"
          ]
        },
        {
          "name": "stdout",
          "output_type": "stream",
          "text": [
            "LSTM Epoch [28/30] | Loss: 0.3444 | Acc: 0.8493 | Test_Acc: 0.7938 | Time: 27.20s | GPU Mem: 1435.24MB\n"
          ]
        },
        {
          "name": "stderr",
          "output_type": "stream",
          "text": [
            "                                                                                 \r"
          ]
        },
        {
          "name": "stdout",
          "output_type": "stream",
          "text": [
            "LSTM Epoch [29/30] | Loss: 0.3160 | Acc: 0.8631 | Test_Acc: 0.8109 | Time: 27.39s | GPU Mem: 1435.24MB\n"
          ]
        },
        {
          "name": "stderr",
          "output_type": "stream",
          "text": [
            "                                                                                  \r"
          ]
        },
        {
          "name": "stdout",
          "output_type": "stream",
          "text": [
            "LSTM Epoch [30/30] | Loss: 0.3301 | Acc: 0.8519 | Test_Acc: 0.7892 | Time: 27.31s | GPU Mem: 1435.24MB\n"
          ]
        }
      ],
      "source": [
        "num_epochs = 30\n",
        "# Train the LSTM model\n",
        "print(\"----- Training LSTM Model -----\")\n",
        "(lstm_losses, lstm_accs, lstm_times, lstm_mem, lstm_test_accs) = train_model(\n",
        "    model_lstm, optimizer_lstm, train_loader, num_epochs, model_name=\"LSTM\", test_loader=test_loader\n",
        ")\n",
        "\n",
        "train_losses_lstm.extend(lstm_losses)\n",
        "train_accuracies_lstm.extend(lstm_accs)\n",
        "train_times_lstm.extend(lstm_times)\n",
        "train_memory_usage_lstm.extend(lstm_mem)\n",
        "train_test_accuracies_lstm.extend(lstm_test_accs)\n"
      ]
    },
    {
      "cell_type": "code",
      "execution_count": 18,
      "metadata": {},
      "outputs": [
        {
          "name": "stdout",
          "output_type": "stream",
          "text": [
            " GPU memory cleared.\n",
            "\n"
          ]
        }
      ],
      "source": [
        "def clear_gpu_memory():\n",
        "    import gc\n",
        "    gc.collect()\n",
        "    torch.cuda.empty_cache()\n",
        "    torch.cuda.ipc_collect()\n",
        "    print(\" GPU memory cleared.\\n\")\n",
        "clear_gpu_memory()"
      ]
    },
    {
      "cell_type": "markdown",
      "metadata": {},
      "source": [
        "#### GRU"
      ]
    },
    {
      "cell_type": "code",
      "execution_count": 19,
      "metadata": {},
      "outputs": [
        {
          "name": "stdout",
          "output_type": "stream",
          "text": [
            "\n",
            "----- Training GRU Model -----\n"
          ]
        },
        {
          "name": "stderr",
          "output_type": "stream",
          "text": [
            "                                                                               \r"
          ]
        },
        {
          "name": "stdout",
          "output_type": "stream",
          "text": [
            "GRU Epoch [1/30] | Loss: 0.5659 | Acc: 0.7151 | Test_Acc: 0.8004 | Time: 27.31s | GPU Mem: 1445.26MB\n"
          ]
        },
        {
          "name": "stderr",
          "output_type": "stream",
          "text": [
            "                                                                               \r"
          ]
        },
        {
          "name": "stdout",
          "output_type": "stream",
          "text": [
            "GRU Epoch [2/30] | Loss: 0.4649 | Acc: 0.7905 | Test_Acc: 0.8056 | Time: 27.26s | GPU Mem: 1445.26MB\n"
          ]
        },
        {
          "name": "stderr",
          "output_type": "stream",
          "text": [
            "                                                                               \r"
          ]
        },
        {
          "name": "stdout",
          "output_type": "stream",
          "text": [
            "GRU Epoch [3/30] | Loss: 0.4446 | Acc: 0.8028 | Test_Acc: 0.8175 | Time: 27.02s | GPU Mem: 1445.26MB\n"
          ]
        },
        {
          "name": "stderr",
          "output_type": "stream",
          "text": [
            "                                                                               \r"
          ]
        },
        {
          "name": "stdout",
          "output_type": "stream",
          "text": [
            "GRU Epoch [4/30] | Loss: 0.4343 | Acc: 0.8110 | Test_Acc: 0.8109 | Time: 27.14s | GPU Mem: 1445.26MB\n"
          ]
        },
        {
          "name": "stderr",
          "output_type": "stream",
          "text": [
            "                                                                               \r"
          ]
        },
        {
          "name": "stdout",
          "output_type": "stream",
          "text": [
            "GRU Epoch [5/30] | Loss: 0.4289 | Acc: 0.8177 | Test_Acc: 0.8037 | Time: 26.87s | GPU Mem: 1445.26MB\n"
          ]
        },
        {
          "name": "stderr",
          "output_type": "stream",
          "text": [
            "                                                                               \r"
          ]
        },
        {
          "name": "stdout",
          "output_type": "stream",
          "text": [
            "GRU Epoch [6/30] | Loss: 0.4220 | Acc: 0.8144 | Test_Acc: 0.8129 | Time: 27.24s | GPU Mem: 1445.26MB\n"
          ]
        },
        {
          "name": "stderr",
          "output_type": "stream",
          "text": [
            "                                                                               \r"
          ]
        },
        {
          "name": "stdout",
          "output_type": "stream",
          "text": [
            "GRU Epoch [7/30] | Loss: 0.4141 | Acc: 0.8169 | Test_Acc: 0.8175 | Time: 27.28s | GPU Mem: 1445.26MB\n"
          ]
        },
        {
          "name": "stderr",
          "output_type": "stream",
          "text": [
            "                                                                               \r"
          ]
        },
        {
          "name": "stdout",
          "output_type": "stream",
          "text": [
            "GRU Epoch [8/30] | Loss: 0.4174 | Acc: 0.8156 | Test_Acc: 0.8293 | Time: 27.15s | GPU Mem: 1445.26MB\n"
          ]
        },
        {
          "name": "stderr",
          "output_type": "stream",
          "text": [
            "                                                                               \r"
          ]
        },
        {
          "name": "stdout",
          "output_type": "stream",
          "text": [
            "GRU Epoch [9/30] | Loss: 0.4017 | Acc: 0.8266 | Test_Acc: 0.8142 | Time: 27.20s | GPU Mem: 1445.26MB\n"
          ]
        },
        {
          "name": "stderr",
          "output_type": "stream",
          "text": [
            "                                                                                \r"
          ]
        },
        {
          "name": "stdout",
          "output_type": "stream",
          "text": [
            "GRU Epoch [10/30] | Loss: 0.3981 | Acc: 0.8264 | Test_Acc: 0.8260 | Time: 27.31s | GPU Mem: 1445.26MB\n"
          ]
        },
        {
          "name": "stderr",
          "output_type": "stream",
          "text": [
            "                                                                                \r"
          ]
        },
        {
          "name": "stdout",
          "output_type": "stream",
          "text": [
            "GRU Epoch [11/30] | Loss: 0.3989 | Acc: 0.8287 | Test_Acc: 0.8286 | Time: 27.04s | GPU Mem: 1445.26MB\n"
          ]
        },
        {
          "name": "stderr",
          "output_type": "stream",
          "text": [
            "                                                                                \r"
          ]
        },
        {
          "name": "stdout",
          "output_type": "stream",
          "text": [
            "GRU Epoch [12/30] | Loss: 0.3899 | Acc: 0.8302 | Test_Acc: 0.8280 | Time: 27.27s | GPU Mem: 1445.26MB\n"
          ]
        },
        {
          "name": "stderr",
          "output_type": "stream",
          "text": [
            "                                                                                \r"
          ]
        },
        {
          "name": "stdout",
          "output_type": "stream",
          "text": [
            "GRU Epoch [13/30] | Loss: 0.3854 | Acc: 0.8343 | Test_Acc: 0.8306 | Time: 27.18s | GPU Mem: 1445.26MB\n"
          ]
        },
        {
          "name": "stderr",
          "output_type": "stream",
          "text": [
            "                                                                                \r"
          ]
        },
        {
          "name": "stdout",
          "output_type": "stream",
          "text": [
            "GRU Epoch [14/30] | Loss: 0.3805 | Acc: 0.8337 | Test_Acc: 0.8280 | Time: 27.13s | GPU Mem: 1445.26MB\n"
          ]
        },
        {
          "name": "stderr",
          "output_type": "stream",
          "text": [
            "                                                                                \r"
          ]
        },
        {
          "name": "stdout",
          "output_type": "stream",
          "text": [
            "GRU Epoch [15/30] | Loss: 0.3712 | Acc: 0.8407 | Test_Acc: 0.8306 | Time: 27.07s | GPU Mem: 1445.26MB\n"
          ]
        },
        {
          "name": "stderr",
          "output_type": "stream",
          "text": [
            "                                                                                \r"
          ]
        },
        {
          "name": "stdout",
          "output_type": "stream",
          "text": [
            "GRU Epoch [16/30] | Loss: 0.3665 | Acc: 0.8407 | Test_Acc: 0.8326 | Time: 26.96s | GPU Mem: 1445.26MB\n"
          ]
        },
        {
          "name": "stderr",
          "output_type": "stream",
          "text": [
            "                                                                                \r"
          ]
        },
        {
          "name": "stdout",
          "output_type": "stream",
          "text": [
            "GRU Epoch [17/30] | Loss: 0.3621 | Acc: 0.8406 | Test_Acc: 0.8306 | Time: 27.05s | GPU Mem: 1445.26MB\n"
          ]
        },
        {
          "name": "stderr",
          "output_type": "stream",
          "text": [
            "                                                                                \r"
          ]
        },
        {
          "name": "stdout",
          "output_type": "stream",
          "text": [
            "GRU Epoch [18/30] | Loss: 0.3525 | Acc: 0.8521 | Test_Acc: 0.8306 | Time: 27.12s | GPU Mem: 1445.26MB\n"
          ]
        },
        {
          "name": "stderr",
          "output_type": "stream",
          "text": [
            "                                                                                 \r"
          ]
        },
        {
          "name": "stdout",
          "output_type": "stream",
          "text": [
            "GRU Epoch [19/30] | Loss: 0.3558 | Acc: 0.8501 | Test_Acc: 0.8365 | Time: 27.20s | GPU Mem: 1445.26MB\n"
          ]
        },
        {
          "name": "stderr",
          "output_type": "stream",
          "text": [
            "                                                                                \r"
          ]
        },
        {
          "name": "stdout",
          "output_type": "stream",
          "text": [
            "GRU Epoch [20/30] | Loss: 0.3496 | Acc: 0.8507 | Test_Acc: 0.8365 | Time: 27.14s | GPU Mem: 1445.26MB\n"
          ]
        },
        {
          "name": "stderr",
          "output_type": "stream",
          "text": [
            "                                                                                \r"
          ]
        },
        {
          "name": "stdout",
          "output_type": "stream",
          "text": [
            "GRU Epoch [21/30] | Loss: 0.3401 | Acc: 0.8537 | Test_Acc: 0.8319 | Time: 27.14s | GPU Mem: 1445.26MB\n"
          ]
        },
        {
          "name": "stderr",
          "output_type": "stream",
          "text": [
            "                                                                                \r"
          ]
        },
        {
          "name": "stdout",
          "output_type": "stream",
          "text": [
            "GRU Epoch [22/30] | Loss: 0.3364 | Acc: 0.8589 | Test_Acc: 0.8339 | Time: 27.16s | GPU Mem: 1445.26MB\n"
          ]
        },
        {
          "name": "stderr",
          "output_type": "stream",
          "text": [
            "                                                                                \r"
          ]
        },
        {
          "name": "stdout",
          "output_type": "stream",
          "text": [
            "GRU Epoch [23/30] | Loss: 0.3267 | Acc: 0.8596 | Test_Acc: 0.8240 | Time: 27.24s | GPU Mem: 1445.26MB\n"
          ]
        },
        {
          "name": "stderr",
          "output_type": "stream",
          "text": [
            "                                                                                \r"
          ]
        },
        {
          "name": "stdout",
          "output_type": "stream",
          "text": [
            "GRU Epoch [24/30] | Loss: 0.3231 | Acc: 0.8570 | Test_Acc: 0.8201 | Time: 27.20s | GPU Mem: 1445.26MB\n"
          ]
        },
        {
          "name": "stderr",
          "output_type": "stream",
          "text": [
            "                                                                                \r"
          ]
        },
        {
          "name": "stdout",
          "output_type": "stream",
          "text": [
            "GRU Epoch [25/30] | Loss: 0.3166 | Acc: 0.8640 | Test_Acc: 0.8267 | Time: 27.13s | GPU Mem: 1445.26MB\n"
          ]
        },
        {
          "name": "stderr",
          "output_type": "stream",
          "text": [
            "                                                                                \r"
          ]
        },
        {
          "name": "stdout",
          "output_type": "stream",
          "text": [
            "GRU Epoch [26/30] | Loss: 0.3133 | Acc: 0.8657 | Test_Acc: 0.8240 | Time: 27.18s | GPU Mem: 1445.26MB\n"
          ]
        },
        {
          "name": "stderr",
          "output_type": "stream",
          "text": [
            "                                                                                \r"
          ]
        },
        {
          "name": "stdout",
          "output_type": "stream",
          "text": [
            "GRU Epoch [27/30] | Loss: 0.2982 | Acc: 0.8765 | Test_Acc: 0.8280 | Time: 27.17s | GPU Mem: 1445.26MB\n"
          ]
        },
        {
          "name": "stderr",
          "output_type": "stream",
          "text": [
            "                                                                                \r"
          ]
        },
        {
          "name": "stdout",
          "output_type": "stream",
          "text": [
            "GRU Epoch [28/30] | Loss: 0.2909 | Acc: 0.8770 | Test_Acc: 0.8359 | Time: 27.15s | GPU Mem: 1445.26MB\n"
          ]
        },
        {
          "name": "stderr",
          "output_type": "stream",
          "text": [
            "                                                                                 \r"
          ]
        },
        {
          "name": "stdout",
          "output_type": "stream",
          "text": [
            "GRU Epoch [29/30] | Loss: 0.2950 | Acc: 0.8718 | Test_Acc: 0.8247 | Time: 27.18s | GPU Mem: 1445.26MB\n"
          ]
        },
        {
          "name": "stderr",
          "output_type": "stream",
          "text": [
            "                                                                                 \r"
          ]
        },
        {
          "name": "stdout",
          "output_type": "stream",
          "text": [
            "GRU Epoch [30/30] | Loss: 0.2804 | Acc: 0.8833 | Test_Acc: 0.8306 | Time: 27.25s | GPU Mem: 1445.26MB\n"
          ]
        }
      ],
      "source": [
        "num_epochs = 30\n",
        "# Train the GRU model\n",
        "print(\"\\n----- Training GRU Model -----\")\n",
        "(gru_losses, gru_accs, gru_times, gru_mem, gru_test_accs) = train_model(\n",
        "    model_gru, optimizer_gru, train_loader, num_epochs, model_name=\"GRU\", test_loader=test_loader\n",
        ")\n",
        "\n",
        "train_losses_gru.extend(gru_losses)\n",
        "train_accuracies_gru.extend(gru_accs)\n",
        "train_times_gru.extend(gru_times)\n",
        "train_memory_usage_gru.extend(gru_mem)\n",
        "train_test_accuracies_gru.extend(gru_test_accs)"
      ]
    },
    {
      "cell_type": "markdown",
      "metadata": {},
      "source": [
        "### Analyze Training Loss, Accuracy and Testing Loss Plots"
      ]
    },
    {
      "cell_type": "code",
      "execution_count": 20,
      "metadata": {},
      "outputs": [
        {
          "data": {
            "image/png": "[encoded data removed]",
            "text/plain": [
              "<Figure size 640x480 with 1 Axes>"
            ]
          },
          "metadata": {},
          "output_type": "display_data"
        },
        {
          "data": {
            "image/png": "[encoded data removed]",
            "text/plain": [
              "<Figure size 640x480 with 1 Axes>"
            ]
          },
          "metadata": {},
          "output_type": "display_data"
        },
        {
          "data": {
            "image/png": "[encoded data removed]",
            "text/plain": [
              "<Figure size 640x480 with 1 Axes>"
            ]
          },
          "metadata": {},
          "output_type": "display_data"
        }
      ],
      "source": [
        "plt.figure()\n",
        "plt.plot(train_losses_lstm, label=\"LSTM Loss\")\n",
        "plt.plot(train_losses_gru, label=\"GRU  Loss\")\n",
        "plt.xlabel(\"Epoch\")\n",
        "plt.ylabel(\"Loss\")\n",
        "plt.title(\"Training Loss Comparison\")\n",
        "plt.legend()\n",
        "plt.grid(True)\n",
        "plt.show()\n",
        "\n",
        "plt.figure()\n",
        "plt.plot(train_accuracies_lstm, label=\"LSTM Accuracy\")\n",
        "plt.plot(train_accuracies_gru,  label=\"GRU  Accuracy\")\n",
        "plt.xlabel(\"Epoch\")\n",
        "plt.ylabel(\"Accuracy\")\n",
        "plt.title(\"Training Accuracy Comparison\")\n",
        "plt.legend()\n",
        "plt.grid(True)\n",
        "plt.show()\n",
        "\n",
        "plt.figure()\n",
        "plt.plot(train_accuracies_lstm, label=\"LSTM Train Acc\")\n",
        "plt.plot(lstm_test_accs, label=\"LSTM Test Acc\")\n",
        "plt.plot(train_accuracies_gru, label=\"GRU  Train Acc\")\n",
        "plt.plot(gru_test_accs, label=\"GRU  Test Acc\")\n",
        "plt.xlabel(\"Epoch\")\n",
        "plt.ylabel(\"Accuracy\")\n",
        "plt.title(\"Training vs Testing Accuracy Comparison\")\n",
        "plt.legend()\n",
        "plt.grid(True)\n",
        "plt.show()"
      ]
    },
    {
      "cell_type": "markdown",
      "metadata": {},
      "source": [
        "### Analyze Training Speed and Memory usage"
      ]
    },
    {
      "cell_type": "code",
      "execution_count": 21,
      "metadata": {},
      "outputs": [
        {
          "name": "stdout",
          "output_type": "stream",
          "text": [
            "\n",
            "[Training Speed]\n",
            "LSTM - Average epoch time: 27.16 s\n",
            "GRU  - Average epoch time: 27.16 s\n",
            "\n",
            "[GPU Memory Usage (Peak)]\n",
            "LSTM - Average GPU usage: 1435.24 MB\n",
            "GRU  - Average GPU usage: 1445.26 MB\n"
          ]
        }
      ],
      "source": [
        "avg_time_lstm = sum(train_times_lstm) / len(train_times_lstm)\n",
        "avg_time_gru  = sum(train_times_gru)  / len(train_times_gru)\n",
        "print(\"\\n[Training Speed]\")\n",
        "print(f\"LSTM - Average epoch time: {avg_time_lstm:.2f} s\")\n",
        "print(f\"GRU  - Average epoch time: {avg_time_gru:.2f} s\")\n",
        "\n",
        "# Calculate average GPU Memory (peak usage)\n",
        "avg_mem_lstm = sum(train_memory_usage_lstm) / len(train_memory_usage_lstm)\n",
        "avg_mem_gru  = sum(train_memory_usage_gru)  / len(train_memory_usage_gru)\n",
        "print(\"\\n[GPU Memory Usage (Peak)]\")\n",
        "print(f\"LSTM - Average GPU usage: {avg_mem_lstm/1024**2:.2f} MB\")\n",
        "print(f\"GRU  - Average GPU usage: {avg_mem_gru/1024**2:.2f} MB\")"
      ]
    },
    {
      "cell_type": "markdown",
      "metadata": {},
      "source": [
        "### Inference"
      ]
    },
    {
      "cell_type": "code",
      "execution_count": 22,
      "metadata": {
        "colab": {
          "base_uri": "https://localhost:8080/"
        },
        "id": "nas2aJm80AQw",
        "outputId": "1bb24391-3dcc-44d9-d0a9-fa0dce48627e"
      },
      "outputs": [
        {
          "name": "stderr",
          "output_type": "stream",
          "text": [
            "Testing LSTM: 100%|██████████| 48/48 [00:06<00:00,  7.92it/s]\n"
          ]
        },
        {
          "name": "stdout",
          "output_type": "stream",
          "text": [
            "\n",
            "[LSTM Test Results]\n",
            "Accuracy : 0.7892\n",
            "Precision: 0.7216\n",
            "Recall   : 0.8228\n"
          ]
        },
        {
          "name": "stderr",
          "output_type": "stream",
          "text": [
            "Testing GRU: 100%|██████████| 48/48 [00:06<00:00,  7.96it/s]"
          ]
        },
        {
          "name": "stdout",
          "output_type": "stream",
          "text": [
            "\n",
            "[GRU Test Results]\n",
            "Accuracy : 0.8306\n",
            "Precision: 0.8587\n",
            "Recall   : 0.7211\n"
          ]
        },
        {
          "name": "stderr",
          "output_type": "stream",
          "text": [
            "\n"
          ]
        }
      ],
      "source": [
        "from sklearn.metrics import accuracy_score, precision_score, recall_score\n",
        "\n",
        "def evaluate_model(model, test_loader, model_name=\"Model\"):\n",
        "    model.eval()\n",
        "    all_preds = []\n",
        "    all_labels = []\n",
        "\n",
        "    with torch.no_grad():\n",
        "        for input_ids, attention_mask,token_type_ids, labels in tqdm(test_loader, desc=f\"Testing {model_name}\"):\n",
        "            input_ids = input_ids.to(device)\n",
        "            attention_mask = attention_mask.to(device)\n",
        "            token_type_ids = token_type_ids.to(device)  # If using token_type_ids, uncomment this line\n",
        "            outputs = model(input_ids, attention_mask,token_type_ids)  # (batch,)\n",
        "\n",
        "            preds = (outputs >= 0.5).long()\n",
        "            all_preds.extend(preds.cpu().tolist())\n",
        "            all_labels.extend(labels.tolist())\n",
        "\n",
        "    acc = accuracy_score(all_labels, all_preds)\n",
        "    prec = precision_score(all_labels, all_preds)\n",
        "    rec = recall_score(all_labels, all_preds)\n",
        "\n",
        "    print(f\"\\n[{model_name} Test Results]\")\n",
        "    print(f\"Accuracy : {acc:.4f}\")\n",
        "    print(f\"Precision: {prec:.4f}\")\n",
        "    print(f\"Recall   : {rec:.4f}\")\n",
        "\n",
        "# Evaluate LSTM\n",
        "evaluate_model(model_lstm, test_loader, model_name=\"LSTM\")\n",
        "\n",
        "# Evaluate GRU\n",
        "evaluate_model(model_gru, test_loader, model_name=\"GRU\")\n"
      ]
    }
  ],
  "metadata": {
    "accelerator": "GPU",
    "colab": {
      "provenance": []
    },
    "gpuClass": "standard",
    "kernelspec": {
      "display_name": "Python 3",
      "name": "python3"
    },
    "language_info": {
      "codemirror_mode": {
        "name": "ipython",
        "version": 3
      },
      "file_extension": ".py",
      "mimetype": "text/x-python",
      "name": "python",
      "nbconvert_exporter": "python",
      "pygments_lexer": "ipython3",
      "version": "3.12.5"
    }
  },
  "nbformat": 4,
  "nbformat_minor": 0
}
